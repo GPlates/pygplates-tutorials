{
 "cells": [
  {
   "cell_type": "markdown",
   "metadata": {},
   "source": [
    "# Plate Velocity Basics\n",
    "\n",
    "This notebook goes through a series of examples for how to use pygplates to work with plate velocities.\n",
    "\n",
    "The basic requirements to calculate any plate velocities are:\n",
    "  - a rotation file containing Euler poles defining plate motions\n",
    "  - the plateid(s) that define the moving plate (and the frame of reference)\n",
    "  - a time range over which to determine the velocity\n",
    "  - the geographic location of the point where we evaluate velocity\n",
    "  \n",
    "### Example #1\n",
    "\n",
    "The first example illustrates these concepts:\n",
    "  - First, we load the rotation model from the Seton et al (2012) dataset\n",
    "  - Second, we get the stage rotation that describes how the plate 101 (North America) is moving over the time period between 11 Ma and 10 Ma. [Note that since don't specify which plate North America is moving relative to, this calculation will default to getting the velcocity relative to the absolute reference frame in the rotation file]\n"
   ]
  },
  {
   "cell_type": "code",
   "execution_count": 11,
   "metadata": {},
   "outputs": [],
   "source": [
    "import pygplates\n",
    "import numpy as np\n",
    "\n",
    "rotation_filename = 'Data/Seton_etal_ESR2012_2012.1.rot'\n",
    "\n",
    "rotation_model = pygplates.RotationModel(rotation_filename)\n",
    "\n",
    "timeFrom = 11.\n",
    "timeTo = 10.\n",
    "MovingPlate = 101\n",
    "\n",
    "# Get the rotation from 11Ma to 10Ma, and the feature's reconstruction plate ID.\n",
    "equivalent_stage_rotation = rotation_model.get_rotation(\n",
    "    timeTo, MovingPlate, timeFrom)\n"
   ]
  },
  {
   "cell_type": "markdown",
   "metadata": {},
   "source": [
    "- Having determined the stage rotation, define a specific point where we are going to evaluate the velocity "
   ]
  },
  {
   "cell_type": "code",
   "execution_count": 12,
   "metadata": {},
   "outputs": [
    {
     "name": "stdout",
     "output_type": "stream",
     "text": [
      "[<pygplates.Vector3D object at 0x7f3094632b30>]\n",
      "[(1.9251545012319426, 5.157094761349058, 5.766929479762294e-17)]\n"
     ]
    }
   ],
   "source": [
    "velocity_point = pygplates.PointOnSphere((20,-60))\n",
    "\n",
    "# Calculate a velocity for each reconstructed point over the 1My time interval.\n",
    "velocity_vector = pygplates.calculate_velocities(\n",
    "    velocity_point,\n",
    "    equivalent_stage_rotation,\n",
    "    1,\n",
    "    pygplates.VelocityUnits.cms_per_yr)\n",
    "\n",
    "velocity_magnitude_azimuth = pygplates.LocalCartesian.convert_from_geocentric_to_magnitude_azimuth_inclination(\n",
    "                        velocity_point,\n",
    "                        velocity_vector)\n",
    "\n",
    "print(velocity_vector)\n",
    "print(velocity_magnitude_azimuth)\n"
   ]
  },
  {
   "cell_type": "markdown",
   "metadata": {},
   "source": [
    "Each entry in the list 'velocity_magnitude_azimuth' contains 3 values, where the first value is the magnitude, and the second is the azimuth:"
   ]
  },
  {
   "cell_type": "code",
   "execution_count": 13,
   "metadata": {},
   "outputs": [
    {
     "name": "stdout",
     "output_type": "stream",
     "text": [
      "Velocity: magnitude = 1.9252 cm/yr, azimuth = 295.4798\n"
     ]
    }
   ],
   "source": [
    "print(('Velocity: magnitude = %0.4f cm/yr, azimuth = %0.4f' % \\\n",
    "            (velocity_magnitude_azimuth[0][0],np.degrees(velocity_magnitude_azimuth[0][1]))))"
   ]
  },
  {
   "cell_type": "markdown",
   "metadata": {},
   "source": [
    "### Example #2\n",
    "\n",
    "The next cell is follows the same approach, but evaluates the velocity at a series of times. In this case, the point is assigned a plateid of 801 (Australia) and this point is then reconstructed relative to 802 (Antarctica), so that we can get the velocity of the same point on Australia\n",
    "\n",
    "Note also that this second example also defines a 'delta' time, which controls the length of time that the cmputed velocity is averaged over (ie here the velocity is computed based on the motion for 0-10 Ma, 10-20 Ma, etc,  because the delta time is 10 Myr, you can choose this value). "
   ]
  },
  {
   "cell_type": "code",
   "execution_count": 14,
   "metadata": {},
   "outputs": [
    {
     "name": "stdout",
     "output_type": "stream",
     "text": [
      "Time = 0.00 Ma\n",
      "Reconstructed Point Lat, Long = -29.999999999999996, 110.0\n",
      "Velocity: magnitude = 6.2677 cm/yr, azimuth = 32.4431\n",
      "Time = 10.00 Ma\n",
      "Reconstructed Point Lat, Long = -34.7034363088108, 106.32036283887442\n",
      "Velocity: magnitude = 6.4684 cm/yr, azimuth = 29.8713\n",
      "Time = 20.00 Ma\n",
      "Reconstructed Point Lat, Long = -39.7199742517607, 102.61917078417157\n",
      "Velocity: magnitude = 7.3435 cm/yr, azimuth = 28.3382\n",
      "Time = 30.00 Ma\n",
      "Reconstructed Point Lat, Long = -45.44201210626845, 98.13386645231428\n",
      "Velocity: magnitude = 6.3668 cm/yr, azimuth = 39.2918\n",
      "Time = 40.00 Ma\n",
      "Reconstructed Point Lat, Long = -49.785122680161045, 92.59187664759266\n",
      "Velocity: magnitude = 0.8099 cm/yr, azimuth = 9.9017\n",
      "Time = 50.00 Ma\n",
      "Reconstructed Point Lat, Long = -50.50246213195913, 92.3950824324691\n",
      "Velocity: magnitude = 5.5276 cm/yr, azimuth = 342.4757\n",
      "Time = 60.00 Ma\n",
      "Reconstructed Point Lat, Long = -55.26547781945862, 94.75324438392258\n",
      "Velocity: magnitude = 0.8670 cm/yr, azimuth = 69.5545\n",
      "Time = 70.00 Ma\n",
      "Reconstructed Point Lat, Long = -55.52427836879976, 93.45816340266943\n",
      "Velocity: magnitude = 2.6563 cm/yr, azimuth = 114.4687\n",
      "Time = 80.00 Ma\n",
      "Reconstructed Point Lat, Long = -54.454849950681414, 89.7341286321887\n",
      "Velocity: magnitude = 2.9867 cm/yr, azimuth = 154.2906\n",
      "Time = 90.00 Ma\n",
      "Reconstructed Point Lat, Long = -51.96685507061159, 88.0482394595443\n",
      "Velocity: magnitude = 1.1392 cm/yr, azimuth = 105.3929\n",
      "Time = 100.00 Ma\n",
      "Reconstructed Point Lat, Long = -51.67005009998393, 86.46194967085488\n",
      "Velocity: magnitude = 1.0478 cm/yr, azimuth = 249.1311\n"
     ]
    }
   ],
   "source": [
    "# Create for each point we want to reconstruct \n",
    "points = []\n",
    "points.append((-30.,110.,801))\n",
    "\n",
    "point_features = []\n",
    "for lat, lon, plate_id in points:\n",
    "    point_feature = pygplates.Feature()\n",
    "    point_feature.set_geometry(pygplates.PointOnSphere(lat, lon))\n",
    "    point_feature.set_reconstruction_plate_id(plate_id)\n",
    "    point_features.append(point_feature)\n",
    "\n",
    "max_time = 100.\n",
    "delta_time = 10.\n",
    "\n",
    "fixed_plate = 802\n",
    "\n",
    "for time in np.arange(0,max_time+1.,delta_time):    \n",
    "    # Reconstruct the point features.\n",
    "    reconstructed_feature_geometries = []\n",
    "    pygplates.reconstruct(point_features, rotation_model, reconstructed_feature_geometries, time)\n",
    "    \n",
    "    # Get the rotation from 'time+delta' to 'time', and the feature's reconstruction plate ID.\n",
    "    equivalent_stage_rotation = rotation_model.get_rotation(\n",
    "        time, plate_id, time+delta_time)\n",
    "    \n",
    "    for reconstructed_feature_geometry in reconstructed_feature_geometries:      \n",
    "        # Calculate a velocity for each reconstructed point over the delta time interval.\n",
    "        velocity_vector = pygplates.calculate_velocities(\n",
    "            reconstructed_feature_geometry.get_reconstructed_geometry(),\n",
    "            equivalent_stage_rotation,\n",
    "            delta_time,\n",
    "            pygplates.VelocityUnits.cms_per_yr)\n",
    "\n",
    "        velocity_magnitude_azimuth = pygplates.LocalCartesian.convert_from_geocentric_to_magnitude_azimuth_inclination(\n",
    "                                reconstructed_feature_geometry.get_reconstructed_geometry(),\n",
    "                                velocity_vector)\n",
    "    \n",
    "        print(('Time = %0.2f Ma' % time))\n",
    "        print(('Reconstructed Point Lat, Long = %s, %s' % \\\n",
    "            reconstructed_feature_geometry.get_reconstructed_geometry().to_lat_lon()))\n",
    "        print(('Velocity: magnitude = %0.4f cm/yr, azimuth = %0.4f' % \\\n",
    "            (velocity_magnitude_azimuth[0][0],np.degrees(velocity_magnitude_azimuth[0][1]))))\n"
   ]
  },
  {
   "cell_type": "code",
   "execution_count": null,
   "metadata": {},
   "outputs": [],
   "source": []
  }
 ],
 "metadata": {
  "kernelspec": {
   "display_name": "Python 3",
   "language": "python",
   "name": "python3"
  },
  "language_info": {
   "codemirror_mode": {
    "name": "ipython",
    "version": 3
   },
   "file_extension": ".py",
   "mimetype": "text/x-python",
   "name": "python",
   "nbconvert_exporter": "python",
   "pygments_lexer": "ipython3"
  }
 },
 "nbformat": 4,
 "nbformat_minor": 1
}
