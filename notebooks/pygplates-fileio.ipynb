{
 "cells": [
  {
   "cell_type": "markdown",
   "metadata": {},
   "source": [
    "## pygplates basic file I/O\n",
    "\n",
    "The aim of these examples is to illustrate some basic file input and output, including\n",
    "\n",
    "- creating a gpml file that selects a subset of features within an existing file\n",
    "- combining the contents of several gpml files into one single file\n",
    "- create a new gpml file from some user-defined coordinates\n",
    "\n",
    "\n",
    "\n",
    "### 1. Make a file containing a selection of the contents in an existing file\n",
    "\n",
    "In the first example, we make a new gpml file that contains only the coastlines that have a plateid of 801 (Australia). \n",
    "\n",
    "We create an empty object called 'selected_features', then append to this object each coastline feature that has an 801 reconsruction_plate_id. \n",
    "\n",
    "The final two lines save this feature collection to a file - note that the file format is controlled by the filename extension (so if you changed it to <filename>.shp, then the file would be saved in shapefile format, for example)\n"
   ]
  },
  {
   "cell_type": "code",
   "execution_count": 10,
   "metadata": {},
   "outputs": [
    {
     "name": "stdout",
     "output_type": "stream",
     "text": [
      "selected features successfully written to gpmlz\n"
     ]
    }
   ],
   "source": [
    "import pygplates\n",
    "\n",
    "# specify the file containing the global coastline geometries\n",
    "input_feature_filename = \"Data/Seton_etal_ESR2012_Coastlines_2012.1_Polygon.gpmlz\"\n",
    "\n",
    "# load the features into an object called 'features'\n",
    "features = pygplates.FeatureCollection(input_feature_filename)\n",
    "\n",
    "# make an empty object in which to store the selected features\n",
    "selected_features = []\n",
    "\n",
    "# iterate over every feature in the coastline file, and append the features that match our criteria\n",
    "for feature in features:\n",
    "    if feature.get_reconstruction_plate_id() == 801:\n",
    "        selected_features.append(feature)\n",
    "\n",
    "# Write the feature to a new file\n",
    "output_feature_collection = pygplates.FeatureCollection(selected_features)\n",
    "output_feature_collection.write('/tmp/Aus_Coastlines.gpmlz')\n",
    "print('selected features successfully written to gpmlz')\n"
   ]
  },
  {
   "cell_type": "markdown",
   "metadata": {},
   "source": [
    "### 2. Merge the contents of several gpml files\n",
    "\n",
    "In this example, the contents of two gpml files (containing respectively the isochrons and ridges from the Seton et al. [2012] ESR model) are merged into a single file"
   ]
  },
  {
   "cell_type": "code",
   "execution_count": 11,
   "metadata": {},
   "outputs": [
    {
     "name": "stdout",
     "output_type": "stream",
     "text": [
      "Data/Seton_etal_ESR2012_Isochrons_2012.1.gpmlz\n",
      "Data/Seton_etal_ESR2012_Ridges_2012.1.gpmlz\n",
      "merged features successfully written to gpmlz\n"
     ]
    }
   ],
   "source": [
    "# List of files to merge - this can be as long as you want\n",
    "filename_list = ['Data/Seton_etal_ESR2012_Isochrons_2012.1.gpmlz',\n",
    "                 'Data/Seton_etal_ESR2012_Ridges_2012.1.gpmlz']\n",
    "\n",
    "# Create an empty feature collection\n",
    "merge_features = []\n",
    "\n",
    "# iterate over each file, append the features into the merged feature collection\n",
    "for filename in filename_list:\n",
    "    print(filename)\n",
    "    features = pygplates.FeatureCollection(filename)\n",
    "    merge_features.extend(features)\n",
    "\n",
    "# Write the merged features to a file\n",
    "output_feature_collection = pygplates.FeatureCollection(merge_features)\n",
    "output_feature_collection.write('/tmp/ridges_and_isochrons.gpmlz')\n",
    "print('merged features successfully written to gpmlz')\n"
   ]
  },
  {
   "cell_type": "markdown",
   "metadata": {},
   "source": [
    "### 3. Create a new feature collection from scratch\n",
    "\n",
    "This code shows how to create a new feature collection and save it to a file. There are some basic requirements for attributes that should be defined for each geometry (coordinates, plateid, valid age range) in order for the feature to be useful."
   ]
  },
  {
   "cell_type": "code",
   "execution_count": 12,
   "metadata": {},
   "outputs": [
    {
     "name": "stdout",
     "output_type": "stream",
     "text": [
      "point features successfully written to gpmlz\n"
     ]
    }
   ],
   "source": [
    "# Create a list of tuples defining arbitrary points on the Australian plate (plate id 801)\n",
    "points = [\n",
    "(-30.,110.,801),\n",
    "(-30.,120.,801),\n",
    "]\n",
    "\n",
    "# Create an unclassified point feature\n",
    "point_features = []\n",
    "for lat, lon, plate_id in points:\n",
    "    point_feature = pygplates.Feature()\n",
    "    point_feature.set_geometry(pygplates.PointOnSphere(lat, lon))\n",
    "    point_feature.set_reconstruction_plate_id(plate_id)\n",
    "    point_features.append(point_feature)\n",
    "\n",
    "# Write the point feature to a file\n",
    "output_feature_collection = pygplates.FeatureCollection(point_features)\n",
    "output_feature_collection.write('/tmp/points.gpmlz')\n",
    "print('point features successfully written to gpmlz')\n"
   ]
  },
  {
   "cell_type": "code",
   "execution_count": null,
   "metadata": {},
   "outputs": [],
   "source": []
  }
 ],
 "metadata": {
  "kernelspec": {
   "display_name": "Python 3",
   "language": "python",
   "name": "python3"
  },
  "language_info": {
   "codemirror_mode": {
    "name": "ipython",
    "version": 3
   },
   "file_extension": ".py",
   "mimetype": "text/x-python",
   "name": "python",
   "nbconvert_exporter": "python",
   "pygments_lexer": "ipython3"
  }
 },
 "nbformat": 4,
 "nbformat_minor": 1
}
